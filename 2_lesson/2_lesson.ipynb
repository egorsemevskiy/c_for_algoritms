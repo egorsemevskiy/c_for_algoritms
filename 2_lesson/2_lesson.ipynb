{
 "cells": [
  {
   "cell_type": "markdown",
   "metadata": {},
   "source": [
    "## 1.Реализовать функцию перевода из 10 системы в двоичную используя рекурсию."
   ]
  },
  {
   "cell_type": "code",
   "execution_count": 5,
   "metadata": {},
   "outputs": [
    {
     "name": "stdout",
     "output_type": "stream",
     "text": [
      "1\n",
      "0\n",
      "1\n"
     ]
    }
   ],
   "source": [
    "def swith(a):\n",
    "    if(a > 1):\n",
    "        swith(a // 2)\n",
    "    b = a % 2 \n",
    "    print(b)\n",
    "    \n",
    "swith(5)"
   ]
  },
  {
   "cell_type": "markdown",
   "metadata": {},
   "source": [
    "## 2. Реализовать функцию возведения числа a в степень b:"
   ]
  },
  {
   "cell_type": "markdown",
   "metadata": {},
   "source": [
    "### a. без рекурсии;"
   ]
  },
  {
   "cell_type": "code",
   "execution_count": 13,
   "metadata": {},
   "outputs": [
    {
     "name": "stdout",
     "output_type": "stream",
     "text": [
      "16\n"
     ]
    }
   ],
   "source": [
    "def power(a,b):\n",
    "    for i in range(b-1):\n",
    "        a = a*a\n",
    "    return a\n",
    "\n",
    "print(power(4, 2))"
   ]
  },
  {
   "cell_type": "markdown",
   "metadata": {},
   "source": [
    "## b. рекурсивно"
   ]
  },
  {
   "cell_type": "code",
   "execution_count": null,
   "metadata": {},
   "outputs": [],
   "source": [
    "def power(a,b):\n",
    "    if(b != 0):\n",
    "        return(a*power(a, b-1))\n",
    "    else: \n",
    "        return 1\n",
    "    \n",
    "print(power(4,2))"
   ]
  },
  {
   "cell_type": "markdown",
   "metadata": {},
   "source": [
    "### c. *рекурсивно, используя свойство чётности степени."
   ]
  },
  {
   "cell_type": "code",
   "execution_count": null,
   "metadata": {},
   "outputs": [],
   "source": [
    " \n",
    "def power(a, b):\n",
    "    if(b == 0 ):\n",
    "        return 1;\n",
    "    if(b % 2 == 1):\n",
    "        return power(a, b-1) * a\n",
    "    else:\n",
    "        c = power(a, b/2)\n",
    "        return c * c\n",
    "    \n",
    "power(4,2)"
   ]
  },
  {
   "cell_type": "markdown",
   "metadata": {},
   "source": [
    " \n",
    "### 3. Исполнитель Калькулятор преобразует целое число, записанное на экране. У исполнителя две команды, каждой команде присвоен номер:"
   ]
  },
  {
   "cell_type": "code",
   "execution_count": 25,
   "metadata": {},
   "outputs": [
    {
     "name": "stdout",
     "output_type": "stream",
     "text": [
      "Введите основание\n",
      "10\n",
      "Введите номер операции\n",
      "1\n",
      "11\n"
     ]
    }
   ],
   "source": [
    "print('Введите основание')\n",
    "a = int(input())\n",
    "print('Введите номер операции')\n",
    "b = int(input())\n",
    "\n",
    "if(b == 1):\n",
    "    print(a + 1)\n",
    "elif(b == 2):\n",
    "    print(a * 2)\n",
    "else:\n",
    "    print('b должен быть равен 1 или 2')"
   ]
  },
  {
   "cell_type": "markdown",
   "metadata": {},
   "source": [
    "### Сколько существует программ, которые число 3 преобразуют в число 20? а) с использованием массива; б) с использованием рекурсии."
   ]
  },
  {
   "cell_type": "code",
   "execution_count": null,
   "metadata": {},
   "outputs": [],
   "source": [
    "var\n",
    "  x, y, i, j: integer;\n",
    "  a: array[0..200] of int64;\n",
    "begin\n",
    "  read(x, y);\n",
    "  a[x] := 1;\n",
    "  for i := x + 1 to y do\n",
    "    a[i] := a[i - 1] + a[i - 2] + a[i div 3] * ord(i mod 3 = 0);\n",
    "  write(a[y])\n",
    "end."
   ]
  },
  {
   "cell_type": "code",
   "execution_count": 37,
   "metadata": {},
   "outputs": [
    {
     "name": "stdout",
     "output_type": "stream",
     "text": [
      "+1+1+1+1+1+1+1+1+1+1+1+1+1+1+1+1+1=\n"
     ]
    }
   ],
   "source": [
    "def calc(a, b):\n",
    "    s = []\n",
    "    for i in (a+1):\n",
    "        s = \n",
    "  \n",
    "                \n",
    "calc(3, 20)"
   ]
  },
  {
   "cell_type": "code",
   "execution_count": null,
   "metadata": {},
   "outputs": [],
   "source": []
  }
 ],
 "metadata": {
  "kernelspec": {
   "display_name": "Python 3",
   "language": "python",
   "name": "python3"
  },
  "language_info": {
   "codemirror_mode": {
    "name": "ipython",
    "version": 3
   },
   "file_extension": ".py",
   "mimetype": "text/x-python",
   "name": "python",
   "nbconvert_exporter": "python",
   "pygments_lexer": "ipython3",
   "version": "3.7.4"
  }
 },
 "nbformat": 4,
 "nbformat_minor": 2
}
