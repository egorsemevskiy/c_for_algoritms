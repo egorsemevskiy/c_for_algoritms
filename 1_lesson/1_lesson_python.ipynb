{
 "cells": [
  {
   "cell_type": "markdown",
   "metadata": {},
   "source": [
    "## Семевский Егор"
   ]
  },
  {
   "cell_type": "markdown",
   "metadata": {},
   "source": [
    "1. Ввести вес и рост человека. Рассчитать и вывести индекс массы тела по формуле I=m/(h*h); где m-масса тела в килограммах, h - рост в метрах."
   ]
  },
  {
   "cell_type": "code",
   "execution_count": 1,
   "metadata": {},
   "outputs": [
    {
     "data": {
      "text/plain": [
       "0.020199469763918697"
      ]
     },
     "execution_count": 1,
     "metadata": {},
     "output_type": "execute_result"
    }
   ],
   "source": [
    "def heigth_weigth(m, h):\n",
    "    I = m/(h*h)\n",
    "    return I\n",
    "\n",
    "heigth_weigth(160,89)\n",
    "  "
   ]
  },
  {
   "cell_type": "markdown",
   "metadata": {},
   "source": [
    "2. Найти максимальное из четырех чисел. Массивы не использовать."
   ]
  },
  {
   "cell_type": "code",
   "execution_count": 8,
   "metadata": {},
   "outputs": [
    {
     "name": "stdout",
     "output_type": "stream",
     "text": [
      "20\n"
     ]
    }
   ],
   "source": [
    "def max_two_n(a, b):\n",
    "    if a > b :\n",
    "        m = a\n",
    "    else:\n",
    "        m = b\n",
    "    return m \n",
    "\n",
    "def max_num(a,b,c,d):\n",
    "    m = max_two_n(max_two_n(a,b), max_two_n(c,d))\n",
    "    print(m)\n",
    "max_num(10, 12, 7, 20)    \n",
    "    "
   ]
  },
  {
   "cell_type": "markdown",
   "metadata": {},
   "source": [
    "#### Написать программу обмена значениями двух целочисленных переменных:\n"
   ]
  },
  {
   "cell_type": "markdown",
   "metadata": {},
   "source": [
    "a. с использованием третьей переменной;"
   ]
  },
  {
   "cell_type": "code",
   "execution_count": 10,
   "metadata": {},
   "outputs": [
    {
     "name": "stdout",
     "output_type": "stream",
     "text": [
      "15 10\n"
     ]
    }
   ],
   "source": [
    "def mining(a,b):\n",
    "    c = a\n",
    "    a = b\n",
    "    b = c\n",
    "    print(a,b)\n",
    "\n",
    "mining(10, 15)"
   ]
  },
  {
   "cell_type": "markdown",
   "metadata": {},
   "source": [
    "b. *без использования третьей переменной."
   ]
  },
  {
   "cell_type": "code",
   "execution_count": 12,
   "metadata": {},
   "outputs": [
    {
     "name": "stdout",
     "output_type": "stream",
     "text": [
      "8 7\n"
     ]
    }
   ],
   "source": [
    "def mining(a,b):\n",
    "    a = a + b\n",
    "    b = a - b\n",
    "    a = a - b\n",
    "    print(a,b)\n",
    "    \n",
    "    \n",
    "mining(7,8)"
   ]
  },
  {
   "cell_type": "markdown",
   "metadata": {},
   "source": [
    "4. Написать программу нахождения корней заданного квадратного уравнения."
   ]
  },
  {
   "cell_type": "code",
   "execution_count": 49,
   "metadata": {},
   "outputs": [
    {
     "name": "stdout",
     "output_type": "stream",
     "text": [
      "-3.724744871391589 -1.275255128608411\n"
     ]
    }
   ],
   "source": [
    "import math\n",
    "\n",
    "def sqec(a, b, c):\n",
    "    det = (b*b) - (4 * a * c)\n",
    "    if det < 0: \n",
    "        print(\"Корней нет\")\n",
    "    elif det == 0:\n",
    "        x2 = -b/(2*a)\n",
    "        print(x2)\n",
    "    else:\n",
    "        x1 = (-b-math.sqrt(det))/(2*a)\n",
    "        x2 = (-b+math.sqrt(det))/(2*a)\n",
    "        print(x1, x2)\n",
    "        \n",
    "\n",
    "sqec(4,20,19)\n",
    "        \n",
    "    "
   ]
  },
  {
   "cell_type": "markdown",
   "metadata": {},
   "source": [
    "5. С клавиатуры вводится номер месяца. Требуется определить, к какому времени года он относится."
   ]
  },
  {
   "cell_type": "code",
   "execution_count": 26,
   "metadata": {},
   "outputs": [
    {
     "name": "stdout",
     "output_type": "stream",
     "text": [
      "осень\n"
     ]
    }
   ],
   "source": [
    "def month(a):\n",
    "    if 3<  a <= 5 :\n",
    "        print('весна')\n",
    "    elif 5 < a <=8 :\n",
    "        print ('лето')\n",
    "    elif  8 <a <= 10:\n",
    "        print('осень')\n",
    "    else: \n",
    "        print('зима')\n",
    "        \n",
    "month(10)"
   ]
  },
  {
   "cell_type": "markdown",
   "metadata": {},
   "source": [
    "6. Ввести возраст человека (от 1 до 150 лет) и вывести его вместе с последующим словом «год», «года» или «лет»."
   ]
  },
  {
   "cell_type": "code",
   "execution_count": 36,
   "metadata": {},
   "outputs": [
    {
     "name": "stdout",
     "output_type": "stream",
     "text": [
      "Вам 22 года\n"
     ]
    }
   ],
   "source": [
    "def age(y):\n",
    "    if y % 10 == 1:\n",
    "        print(\"Вам\", y , 'год')\n",
    "    elif y % 10 in [2,3,4]:\n",
    "        print(\"Вам\", y , 'года')\n",
    "    else: \n",
    "        print(\"Вам\", y , 'лет')\n",
    "        \n",
    "age(22)"
   ]
  },
  {
   "cell_type": "markdown",
   "metadata": {},
   "source": [
    "7. С клавиатуры вводятся числовые координаты двух полей шахматной доски (x1,y1,x2,y2). Требуется определить, относятся ли к поля к одному цвету или нет."
   ]
  },
  {
   "cell_type": "code",
   "execution_count": 37,
   "metadata": {},
   "outputs": [
    {
     "name": "stdout",
     "output_type": "stream",
     "text": [
      "Одного цвета\n"
     ]
    }
   ],
   "source": [
    "def chess(x1,y1,x2,y2):\n",
    "    if (x1+y1) %2 == (x2+y2) %2:\n",
    "        print('Одного цвета')\n",
    "    else: \n",
    "        print('Разного цвета')\n",
    "\n",
    "chess(2,2,3,3)"
   ]
  },
  {
   "cell_type": "markdown",
   "metadata": {},
   "source": [
    "8. Ввести a и b и вывести квадраты и кубы чисел от a до b."
   ]
  },
  {
   "cell_type": "code",
   "execution_count": 38,
   "metadata": {},
   "outputs": [
    {
     "name": "stdout",
     "output_type": "stream",
     "text": [
      "4 8 16 64\n"
     ]
    }
   ],
   "source": [
    "def coub(a,b):\n",
    "    print(a**2, a**3, b**2, b**3)\n",
    "\n",
    "coub(2,4)"
   ]
  },
  {
   "cell_type": "markdown",
   "metadata": {},
   "source": [
    "9. Даны целые положительные числа N и K. Используя только операции сложения и вычитания, найти частное от деления нацело N на K, а также остаток от этого деления."
   ]
  },
  {
   "cell_type": "code",
   "execution_count": 59,
   "metadata": {},
   "outputs": [
    {
     "name": "stdout",
     "output_type": "stream",
     "text": [
      "4 2\n"
     ]
    }
   ],
   "source": [
    "def ch(n,k):\n",
    "    c = 0\n",
    "    if n > k:\n",
    "        while n >= k:\n",
    "            c = c + 1\n",
    "            n = n - k\n",
    "        print(c, n)\n",
    "    else: \n",
    "        print(\"n < k\")\n",
    "ch(22, 5)"
   ]
  },
  {
   "cell_type": "markdown",
   "metadata": {},
   "source": [
    "10. Дано целое число N (> 0). С помощью операций деления нацело и взятия остатка от деления определить, имеются ли в записи числа N нечетные цифры. Если имеются, то вывести True, если нет — вывести False."
   ]
  },
  {
   "cell_type": "code",
   "execution_count": null,
   "metadata": {},
   "outputs": [],
   "source": []
  },
  {
   "cell_type": "markdown",
   "metadata": {},
   "source": [
    "11. С клавиатуры вводятся числа, пока не будет введен 0. Подсчитать среднее арифметическое всех положительных четных чисел, оканчивающихся на 8."
   ]
  },
  {
   "cell_type": "code",
   "execution_count": 69,
   "metadata": {},
   "outputs": [
    {
     "name": "stdout",
     "output_type": "stream",
     "text": [
      "2,2\n"
     ]
    }
   ],
   "source": [
    " \n"
   ]
  },
  {
   "cell_type": "markdown",
   "metadata": {},
   "source": [
    " 12. Написать функцию нахождения максимального из трех чисел."
   ]
  },
  {
   "cell_type": "code",
   "execution_count": 71,
   "metadata": {},
   "outputs": [
    {
     "name": "stdout",
     "output_type": "stream",
     "text": [
      "7\n"
     ]
    }
   ],
   "source": [
    "def max_two(a, b):\n",
    "    if a > b :\n",
    "        m = a\n",
    "    else:\n",
    "        m = b\n",
    "    return m \n",
    "\n",
    "def max_three(a,b,c):\n",
    "    m = max_two(max_two(a,b), c)\n",
    "    print(m)\n",
    "    \n",
    "max_three(2,7,5)"
   ]
  },
  {
   "cell_type": "markdown",
   "metadata": {},
   "source": [
    "13. Написать функцию, генерирующую случайное число от 1 до 100. *"
   ]
  },
  {
   "cell_type": "markdown",
   "metadata": {},
   "source": [
    "с использованием стандартной функции rand()"
   ]
  },
  {
   "cell_type": "code",
   "execution_count": 102,
   "metadata": {},
   "outputs": [
    {
     "name": "stdout",
     "output_type": "stream",
     "text": [
      "93\n"
     ]
    }
   ],
   "source": [
    "import numpy as np\n",
    "a = np.random.randint(0,100)\n",
    "print(a)"
   ]
  },
  {
   "cell_type": "markdown",
   "metadata": {},
   "source": [
    "без использования стандартной функции rand()"
   ]
  },
  {
   "cell_type": "code",
   "execution_count": 115,
   "metadata": {},
   "outputs": [
    {
     "name": "stdout",
     "output_type": "stream",
     "text": [
      "63\n"
     ]
    }
   ],
   "source": [
    "import random\n",
    "def rand(a):\n",
    "    c = 100 \n",
    "    x = random.choice([3,4,5,6,7,8])\n",
    "    b = random.choice([1,2,3,4,5,7])\n",
    "    print((a * x + b) % c)\n",
    "    \n",
    "rand(10)"
   ]
  },
  {
   "cell_type": "markdown",
   "metadata": {},
   "source": [
    "14. Автоморфные числа. Натуральное число называется автоморфным, если оно равно последним цифрам своего квадрата. Например, 25 \\ :sup: 2 = 625. Напишите программу, которая вводит натуральное число N и выводит на экран все автоморфные числа, не превосходящие N.\n",
    "        "
   ]
  },
  {
   "cell_type": "code",
   "execution_count": 120,
   "metadata": {},
   "outputs": [
    {
     "name": "stdout",
     "output_type": "stream",
     "text": [
      "999\n",
      "0 1 5 6 25 76 376 625\n"
     ]
    }
   ],
   "source": [
    "print(*(i for i in range(int(input()) + 1) if str(i * i).endswith(str(i))))\n"
   ]
  },
  {
   "cell_type": "code",
   "execution_count": null,
   "metadata": {},
   "outputs": [],
   "source": []
  }
 ],
 "metadata": {
  "kernelspec": {
   "display_name": "Python 3",
   "language": "python",
   "name": "python3"
  },
  "language_info": {
   "codemirror_mode": {
    "name": "ipython",
    "version": 3
   },
   "file_extension": ".py",
   "mimetype": "text/x-python",
   "name": "python",
   "nbconvert_exporter": "python",
   "pygments_lexer": "ipython3",
   "version": "3.7.4"
  }
 },
 "nbformat": 4,
 "nbformat_minor": 2
}
